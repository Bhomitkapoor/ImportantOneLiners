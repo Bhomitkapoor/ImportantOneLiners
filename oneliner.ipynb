{
 "cells": [
  {
   "cell_type": "markdown",
   "metadata": {},
   "source": [
    "## Python :  Decoding complex operations into concise one-liners"
   ]
  },
  {
   "cell_type": "markdown",
   "metadata": {},
   "source": [
    "!!! Why we are doing this !!!\n",
    "\n",
    "1. Enhance Readability\n",
    "2. Code efficiency\n",
    "3. Save time\n",
    "4. Reducing Complexity\n",
    "\n",
    "\n"
   ]
  },
  {
   "cell_type": "code",
   "execution_count": 60,
   "metadata": {},
   "outputs": [
    {
     "name": "stdout",
     "output_type": "stream",
     "text": [
      "6\n"
     ]
    }
   ],
   "source": [
    "# Calculating Factorials using the reduce() function in a single line\n",
    "## Concise way for Iterative multiplications\n",
    "from functools import reduce\n",
    "\n",
    "factorial = reduce(lambda x, y: x * y, range(1, 4))\n",
    "print(factorial)\n",
    "\n"
   ]
  },
  {
   "cell_type": "code",
   "execution_count": 61,
   "metadata": {},
   "outputs": [
    {
     "name": "stdout",
     "output_type": "stream",
     "text": [
      "[(1, 'aa'), (2, 'bb'), (3, 'cc')]\n"
     ]
    }
   ],
   "source": [
    "# Lambda Functions for Sorting  : An anonymous function\n",
    "\n",
    "  \n",
    "tuples_list = [(1, 'aa'), (3, 'cc'), (2, 'bb')]\n",
    "sorted_list = sorted(tuples_list, key=lambda x: x[1])\n",
    "\n",
    "print(sorted_list)"
   ]
  },
  {
   "cell_type": "code",
   "execution_count": 62,
   "metadata": {},
   "outputs": [
    {
     "name": "stdout",
     "output_type": "stream",
     "text": [
      "{'a': 1, 'b': 2, 'c': 3, 'd': 4}\n"
     ]
    }
   ],
   "source": [
    "# Merging Two Dictionaries: a handy way to combine multiple dictionaries without using loops or additional functions\n",
    "\n",
    "dict1 = {'a': 1, 'b': 2}\n",
    "dict2 = {'c': 3, 'd': 4}\n",
    "\n",
    "merged_dict = {**dict1, **dict2}\n",
    "print(merged_dict)"
   ]
  },
  {
   "cell_type": "code",
   "execution_count": 65,
   "metadata": {},
   "outputs": [
    {
     "name": "stdout",
     "output_type": "stream",
     "text": [
      "{'a': 1, 'b': 2, 'c': 3}\n"
     ]
    }
   ],
   "source": [
    "# Dictionary Comprehension:  the quick creation of dictionaries from iterables\n",
    "\n",
    "keys = ['a', 'b', 'c']\n",
    "values = [1, 2, 3]\n",
    "\n",
    "dict_from_lists = {keys[i]: values[i] for i in range(len(keys))}\n",
    "print(dict_from_lists)\n",
    "\n",
    "\n"
   ]
  },
  {
   "cell_type": "code",
   "execution_count": 67,
   "metadata": {},
   "outputs": [
    {
     "name": "stdout",
     "output_type": "stream",
     "text": [
      "c\n"
     ]
    }
   ],
   "source": [
    "# Maximum Value in a Dictionary\n",
    "\n",
    "d = {'a': 1, 'b': 2, 'c': 3}\n",
    "\n",
    "max_key = max(d, key=lambda k: d[k])\n",
    "print(max_key)\n"
   ]
  },
  {
   "cell_type": "code",
   "execution_count": 69,
   "metadata": {},
   "outputs": [
    {
     "name": "stdout",
     "output_type": "stream",
     "text": [
      "Checking for Substring Presence: True\n"
     ]
    }
   ],
   "source": [
    "# 6. Checking for Substring Presence\n",
    "contains = \"Python\" in \"I love Python programming\"\n",
    "print(\"Checking for Substring Presence:\", contains)\n",
    "\n"
   ]
  },
  {
   "cell_type": "code",
   "execution_count": 72,
   "metadata": {},
   "outputs": [
    {
     "name": "stdout",
     "output_type": "stream",
     "text": [
      "Palindrome Check with Slicing: False\n"
     ]
    }
   ],
   "source": [
    "# 7. Palindrome Check with Slicing\n",
    "is_palindrome = lambda s: s == s[::-1]\n",
    "print(\"Palindrome Check with Slicing:\", is_palindrome(\"Newton\"))\n"
   ]
  },
  {
   "cell_type": "code",
   "execution_count": 74,
   "metadata": {},
   "outputs": [
    {
     "name": "stdout",
     "output_type": "stream",
     "text": [
      "Inverting a Dictionary: {1: 'a', 2: 'b', 3: 'c'}\n"
     ]
    }
   ],
   "source": [
    "\n",
    "# 8. Inverting a Dictionary\n",
    "inverted_dict = {v: k for k, v in {'a': 1, 'b': 2, 'c': 3}.items()}\n",
    "print(\"Inverting a Dictionary:\", inverted_dict)\n"
   ]
  },
  {
   "cell_type": "code",
   "execution_count": 76,
   "metadata": {},
   "outputs": [
    {
     "name": "stdout",
     "output_type": "stream",
     "text": [
      "Pairing Elements with zip(): [('Alice', 25), ('Bob', 30), ('Charlie', 35)]\n"
     ]
    }
   ],
   "source": [
    "\n",
    "# 9. Pairing Elements with zip()\n",
    "names = [\"Alice\", \"Bob\", \"Charlie\"]\n",
    "ages = [25, 30, 35]\n",
    "name_age_pairs = list(zip(names, ages))\n",
    "print(\"Pairing Elements with zip():\", name_age_pairs)\n"
   ]
  },
  {
   "cell_type": "code",
   "execution_count": 78,
   "metadata": {},
   "outputs": [
    {
     "name": "stdout",
     "output_type": "stream",
     "text": [
      "Finding the Intersection of Two Lists: [2, 3]\n"
     ]
    }
   ],
   "source": [
    "\n",
    "# 10. Finding the Intersection of Two Lists\n",
    "intersection = list(set([1, 2, 3]) & set([2, 3, 4]))\n",
    "print(\"Finding the Intersection of Two Lists:\", intersection)\n"
   ]
  },
  {
   "cell_type": "code",
   "execution_count": 81,
   "metadata": {},
   "outputs": [
    {
     "name": "stdout",
     "output_type": "stream",
     "text": [
      "Conditional Checks with any() and all(): True False\n"
     ]
    }
   ],
   "source": [
    "\n",
    "# 11. Conditional Checks with any() and all()\n",
    "values = [1, 2, 3, 4]\n",
    "has_greater = any(x > 3 for x in values)\n",
    "all_positive = all(x > 6 for x in values)\n",
    "print(\"Conditional Checks with any() and all():\", has_greater, all_positive)\n"
   ]
  },
  {
   "cell_type": "code",
   "execution_count": 83,
   "metadata": {},
   "outputs": [
    {
     "name": "stdout",
     "output_type": "stream",
     "text": [
      "Generating a Dictionary from Two Lists: {'a': 1, 'b': 2, 'c': 3}\n"
     ]
    }
   ],
   "source": [
    "\n",
    "# 12. Generating a Dictionary from Two Lists\n",
    "keys = ['a', 'b', 'c']\n",
    "values = [1, 2, 3]\n",
    "dictionary = dict(zip(keys, values))\n",
    "print(\"Generating a Dictionary from Two Lists:\", dictionary)\n"
   ]
  },
  {
   "cell_type": "code",
   "execution_count": 85,
   "metadata": {},
   "outputs": [
    {
     "name": "stdout",
     "output_type": "stream",
     "text": [
      "Transforming Lists with map(): ['HELLO', 'WORLD']\n"
     ]
    }
   ],
   "source": [
    "\n",
    "# 13. Transforming Lists with map()\n",
    "strings = [\"hello\", \"world\"]\n",
    "uppercase_strings = list(map(str.upper, strings))\n",
    "print(\"Transforming Lists with map():\", uppercase_strings)\n"
   ]
  },
  {
   "cell_type": "code",
   "execution_count": 87,
   "metadata": {},
   "outputs": [
    {
     "name": "stdout",
     "output_type": "stream",
     "text": [
      "Finding the Index of an Element: 2\n"
     ]
    }
   ],
   "source": [
    "\n",
    "# 14. Finding the Index of an Element\n",
    "index = [1, 2, 3, 4, 5].index(3)\n",
    "print(\"Finding the Index of an Element:\", index)\n",
    "\n"
   ]
  },
  {
   "cell_type": "code",
   "execution_count": 89,
   "metadata": {},
   "outputs": [
    {
     "name": "stdout",
     "output_type": "stream",
     "text": [
      "One-liner Nested Loop:\n",
      "1 a\n",
      "1 b\n",
      "2 a\n",
      "2 b\n",
      "3 a\n",
      "3 b\n"
     ]
    }
   ],
   "source": [
    "\n",
    "\n",
    "# 15. One-liner Nested Loop\n",
    "list1 = [1, 2, 3]\n",
    "list2 = ['a', 'b']\n",
    "result = [(x, y) for x in list1 for y in list2]\n",
    "print(\"One-liner Nested Loop:\")\n",
    "for x, y in result:\n",
    "    print(x, y)\n"
   ]
  },
  {
   "cell_type": "code",
   "execution_count": 91,
   "metadata": {},
   "outputs": [
    {
     "name": "stdout",
     "output_type": "stream",
     "text": [
      "Filtering Even Numbers: [2, 4, 6, 8, 10, 12, 14, 16, 18, 20]\n"
     ]
    }
   ],
   "source": [
    "\n",
    "# 16. Filtering Even Numbers\n",
    "even_nums = [x for x in range(1, 21) if x % 2 == 0]\n",
    "print(\"Filtering Even Numbers:\", even_nums)\n"
   ]
  },
  {
   "cell_type": "code",
   "execution_count": 93,
   "metadata": {},
   "outputs": [
    {
     "name": "stdout",
     "output_type": "stream",
     "text": [
      "List of Unique Elements: [1, 2, 3, 4, 5]\n"
     ]
    }
   ],
   "source": [
    "# 17. List of Unique Elements\n",
    "unique_elements = list(set([1, 2, 2, 3, 4, 4, 5]))\n",
    "print(\"List of Unique Elements:\", unique_elements)\n"
   ]
  },
  {
   "cell_type": "code",
   "execution_count": 97,
   "metadata": {},
   "outputs": [
    {
     "name": "stdout",
     "output_type": "stream",
     "text": [
      "Converting a List to a String: Python is fun\n"
     ]
    }
   ],
   "source": [
    "\n",
    "# 18. Converting a List to a String\n",
    "list1 = ['Python', 'is', 'fun']\n",
    "joined_string = \" \".join(list1)\n",
    "print(\"Converting a List to a String:\", joined_string)"
   ]
  },
  {
   "cell_type": "code",
   "execution_count": 99,
   "metadata": {},
   "outputs": [
    {
     "name": "stdout",
     "output_type": "stream",
     "text": [
      "Replacing Substrings: I enjoy Python\n"
     ]
    }
   ],
   "source": [
    "# 19. Replacing Substrings\n",
    "new_string = \"I love Python\".replace(\"love\", \"enjoy\")\n",
    "print(\"Replacing Substrings:\", new_string)\n"
   ]
  },
  {
   "cell_type": "code",
   "execution_count": 101,
   "metadata": {},
   "outputs": [
    {
     "name": "stdout",
     "output_type": "stream",
     "text": [
      "Flattening a List of Lists: [1, 2, 3, 4, 5, 6]\n"
     ]
    }
   ],
   "source": [
    "\n",
    "# 20. Flattening a List of Lists\n",
    "flat_list = [item for sublist in [[1, 2], [3, 4], [5, 6]] for item in sublist]\n",
    "print(\"Flattening a List of Lists:\", flat_list)\n",
    "\n"
   ]
  },
  {
   "cell_type": "code",
   "execution_count": null,
   "metadata": {},
   "outputs": [],
   "source": []
  },
  {
   "cell_type": "code",
   "execution_count": null,
   "metadata": {},
   "outputs": [],
   "source": []
  },
  {
   "cell_type": "code",
   "execution_count": null,
   "metadata": {},
   "outputs": [],
   "source": []
  },
  {
   "cell_type": "code",
   "execution_count": null,
   "metadata": {},
   "outputs": [],
   "source": []
  },
  {
   "cell_type": "code",
   "execution_count": null,
   "metadata": {},
   "outputs": [],
   "source": []
  },
  {
   "cell_type": "code",
   "execution_count": null,
   "metadata": {},
   "outputs": [],
   "source": []
  },
  {
   "cell_type": "code",
   "execution_count": null,
   "metadata": {},
   "outputs": [],
   "source": []
  },
  {
   "cell_type": "code",
   "execution_count": null,
   "metadata": {},
   "outputs": [],
   "source": []
  },
  {
   "cell_type": "code",
   "execution_count": null,
   "metadata": {},
   "outputs": [],
   "source": []
  },
  {
   "cell_type": "code",
   "execution_count": null,
   "metadata": {},
   "outputs": [],
   "source": []
  },
  {
   "cell_type": "code",
   "execution_count": null,
   "metadata": {},
   "outputs": [],
   "source": []
  }
 ],
 "metadata": {
  "kernelspec": {
   "display_name": "Any Display Name",
   "language": "python",
   "name": "your_env_name"
  },
  "language_info": {
   "codemirror_mode": {
    "name": "ipython",
    "version": 3
   },
   "file_extension": ".py",
   "mimetype": "text/x-python",
   "name": "python",
   "nbconvert_exporter": "python",
   "pygments_lexer": "ipython3",
   "version": "3.11.8"
  }
 },
 "nbformat": 4,
 "nbformat_minor": 2
}
